{
 "cells": [
  {
   "cell_type": "code",
   "execution_count": 3,
   "metadata": {},
   "outputs": [
    {
     "ename": "MemoryError",
     "evalue": "",
     "output_type": "error",
     "traceback": [
      "\u001b[1;31m---------------------------------------------------------------------------\u001b[0m",
      "\u001b[1;31mMemoryError\u001b[0m                               Traceback (most recent call last)",
      "\u001b[1;32m<ipython-input-3-086e3bd01345>\u001b[0m in \u001b[0;36m<module>\u001b[1;34m\u001b[0m\n\u001b[0;32m      5\u001b[0m \u001b[0mn_div\u001b[0m\u001b[1;33m=\u001b[0m\u001b[1;36m16\u001b[0m\u001b[1;33m\u001b[0m\u001b[1;33m\u001b[0m\u001b[0m\n\u001b[0;32m      6\u001b[0m \u001b[0mdataset_size\u001b[0m\u001b[1;33m=\u001b[0m\u001b[1;36m5000\u001b[0m\u001b[1;33m\u001b[0m\u001b[1;33m\u001b[0m\u001b[0m\n\u001b[1;32m----> 7\u001b[1;33m \u001b[0minput_data\u001b[0m\u001b[1;33m=\u001b[0m\u001b[0mnp\u001b[0m\u001b[1;33m.\u001b[0m\u001b[0mempty\u001b[0m\u001b[1;33m(\u001b[0m\u001b[1;33m(\u001b[0m\u001b[0mdataset_size\u001b[0m\u001b[1;33m,\u001b[0m\u001b[0mside\u001b[0m\u001b[1;33m,\u001b[0m\u001b[0mside\u001b[0m\u001b[1;33m)\u001b[0m\u001b[1;33m)\u001b[0m\u001b[1;33m\u001b[0m\u001b[1;33m\u001b[0m\u001b[0m\n\u001b[0m\u001b[0;32m      8\u001b[0m \u001b[0moutput_data\u001b[0m\u001b[1;33m=\u001b[0m\u001b[0mnp\u001b[0m\u001b[1;33m.\u001b[0m\u001b[0mempty\u001b[0m\u001b[1;33m(\u001b[0m\u001b[1;33m(\u001b[0m\u001b[0mdataset_size\u001b[0m\u001b[1;33m,\u001b[0m\u001b[0mn_div\u001b[0m\u001b[1;33m,\u001b[0m\u001b[0mn_div\u001b[0m\u001b[1;33m,\u001b[0m\u001b[1;36m5\u001b[0m\u001b[1;33m)\u001b[0m\u001b[1;33m)\u001b[0m\u001b[1;33m\u001b[0m\u001b[1;33m\u001b[0m\u001b[0m\n\u001b[0;32m      9\u001b[0m \u001b[1;32mfor\u001b[0m \u001b[0mk\u001b[0m \u001b[1;32min\u001b[0m \u001b[0mrange\u001b[0m\u001b[1;33m(\u001b[0m\u001b[0mdataset_size\u001b[0m\u001b[1;33m)\u001b[0m\u001b[1;33m:\u001b[0m\u001b[1;33m\u001b[0m\u001b[1;33m\u001b[0m\u001b[0m\n",
      "\u001b[1;31mMemoryError\u001b[0m: "
     ]
    }
   ],
   "source": [
    "import cv2\n",
    "import numpy as np\n",
    "from random import randint\n",
    "side=512\n",
    "n_div=16\n",
    "dataset_size=5000\n",
    "input_data=np.empty((dataset_size,side,side))\n",
    "output_data=np.empty((dataset_size,n_div,n_div,5))\n",
    "for k in range(dataset_size):\n",
    "    for i in range(n_div):\n",
    "        for j in range(n_div):\n",
    "            output_data[k][i][j][0]=randint(j*side/n_div,(j+1)*side/n_div)\n",
    "            output_data[k][i][j][1]=randint(i*side/n_div,(i+1)*side/n_div)\n",
    "            output_data[k][i][j][2]=randint(0,side-(j+1)*side/n_div)\n",
    "            output_data[k][i][j][3]=randint(0,side-(i+1)*side/n_div)\n",
    "            output_data[k][i][j][4]=0\n",
    "for i in range(dataset_size):\n",
    "    print(i)\n",
    "    n_line=randint(1,20)\n",
    "    image=np.full((side,side),255)\n",
    "    coords=np.random.randint(0,side,(n_line,4))\n",
    "    for coord in coords:    \n",
    "        image=cv2.line(image,(coord[0],coord[1]),(coord[2],coord[3]),0,np.random.randint(1,5))\n",
    "        j=int(coord[0]//(side/n_div))\n",
    "        k=int(coord[1]//(side/n_div))\n",
    "        output_data[i][j][k][0]=coord[0]\n",
    "        output_data[i][j][k][1]=coord[1]\n",
    "        output_data[i][j][k][2]=coord[2]\n",
    "        output_data[i][j][k][3]=coord[3]\n",
    "        output_data[i][j][k][4]=100\n",
    "        \n",
    "    input_data[i]=image\n",
    "del cv2\n",
    "input_data=np.reshape(input_data,(input_data.shape+(1,)))\n",
    "np.savez_compressed('training_data.npz',input_data=input_data,output_data=output_data)\n",
    "del np\n",
    "del input_data,output_data,i,j,k,dataset_size,n_div,image,coords"
   ]
  },
  {
   "cell_type": "code",
   "execution_count": null,
   "metadata": {},
   "outputs": [],
   "source": []
  },
  {
   "cell_type": "code",
   "execution_count": null,
   "metadata": {},
   "outputs": [],
   "source": []
  },
  {
   "cell_type": "code",
   "execution_count": null,
   "metadata": {},
   "outputs": [],
   "source": []
  },
  {
   "cell_type": "code",
   "execution_count": null,
   "metadata": {},
   "outputs": [],
   "source": [
    "import numpy as np\n",
    "data=np.load('training_data.npz')\n",
    "input_data=data['input_data']\n",
    "output_data=data['output_data']\n",
    "del data,np"
   ]
  },
  {
   "cell_type": "code",
   "execution_count": null,
   "metadata": {},
   "outputs": [],
   "source": [
    "from tensorflow.keras.models import Sequential\n",
    "from tensorflow.keras.layers import Conv2D,MaxPool2D\n",
    "from tensorflow.keras import initializers\n",
    "from keras.callbacks import ModelCheckpoint\n"
   ]
  },
  {
   "cell_type": "code",
   "execution_count": null,
   "metadata": {},
   "outputs": [],
   "source": [
    "model=Sequential()\n",
    "model.add(Conv2D(32,(3,3),use_bias=True,activation='relu',padding='same',kernel_initializer=initializers.RandomNormal(stddev=0.01),input_shape=input_data.shape[1:]))\n",
    "model.add(MaxPool2D((2,2)))\n",
    "model.add(Conv2D(16,(3,3),use_bias=True,padding='same',activation='relu',kernel_initializer=initializers.RandomNormal(stddev=0.01)))\n",
    "model.add(MaxPool2D((2,2)))\n",
    "model.add(Conv2D(32,(3,3),use_bias=True,padding='same',activation='relu',kernel_initializer=initializers.RandomNormal(stddev=0.01)))\n",
    "model.add(MaxPool2D((2,2)))\n",
    "model.add(Conv2D(16,(3,3),use_bias=True,padding='same',activation='relu',kernel_initializer=initializers.RandomNormal(stddev=0.01)))\n",
    "model.add(MaxPool2D((2,2)))\n",
    "model.add(Conv2D(8,(3,3),use_bias=True,padding='same',activation='relu',kernel_initializer=initializers.RandomNormal(stddev=0.01)))\n",
    "model.add(MaxPool2D((2,2)))\n",
    "model.add(Conv2D(5,(3,3),use_bias=True,padding='same',activation='relu',kernel_initializer=initializers.RandomNormal(stddev=0.01)))\n",
    "print(model.summary())"
   ]
  },
  {
   "cell_type": "code",
   "execution_count": null,
   "metadata": {},
   "outputs": [],
   "source": [
    "model.compile(loss='mse',optimizer='adam',metrics=['accuracy'])\n",
    "checkpoint = ModelCheckpoint(\"model.hdf5\", monitor='loss', verbose=1,save_best_only=True, mode='auto', period=1)\n",
    "history=model.fit(input_data, output_data,\n",
    "          batch_size=10,\n",
    "          epochs=100,\n",
    "          callbacks=[checkpoint],\n",
    "          shuffle=True,\n",
    "          validation_split=0.4 \n",
    "                 )"
   ]
  },
  {
   "cell_type": "code",
   "execution_count": null,
   "metadata": {},
   "outputs": [],
   "source": [
    "import matplotlib.pyplot as plt\n",
    "plt.plot(history.history['accuracy'])\n",
    "plt.plot(history.history['val_accuracy'])\n",
    "plt.title('model accuracy')\n",
    "plt.ylabel('accuracy')\n",
    "plt.xlabel('epoch')\n",
    "plt.legend(['train', 'test'], loc='upper left')\n",
    "plt.show()\n",
    "# summarize history for loss\n",
    "plt.plot(history.history['loss'])\n",
    "plt.plot(history.history['val_loss'])\n",
    "plt.title('model loss')\n",
    "plt.ylabel('loss')\n",
    "plt.xlabel('epoch')\n",
    "plt.legend(['train', 'test'], loc='upper left')\n",
    "plt.show()"
   ]
  }
 ],
 "metadata": {
  "kernelspec": {
   "display_name": "Python 3",
   "language": "python",
   "name": "python3"
  },
  "language_info": {
   "codemirror_mode": {
    "name": "ipython",
    "version": 3
   },
   "file_extension": ".py",
   "mimetype": "text/x-python",
   "name": "python",
   "nbconvert_exporter": "python",
   "pygments_lexer": "ipython3",
   "version": "3.7.3"
  }
 },
 "nbformat": 4,
 "nbformat_minor": 2
}
